{
  "nbformat": 4,
  "nbformat_minor": 0,
  "metadata": {
    "colab": {
      "name": "Untitled2.ipynb",
      "provenance": [],
      "collapsed_sections": []
    },
    "kernelspec": {
      "name": "python3",
      "display_name": "Python 3"
    },
    "language_info": {
      "name": "python"
    }
  },
  "cells": [
    {
      "cell_type": "code",
      "metadata": {
        "id": "ESBe9yE9oVAQ",
        "colab": {
          "base_uri": "https://localhost:8080/"
        },
        "outputId": "b08591df-ff82-4faa-bc39-f30af7b79942"
      },
      "source": [
        "!pip3 install mne"
      ],
      "execution_count": null,
      "outputs": [
        {
          "output_type": "stream",
          "name": "stdout",
          "text": [
            "Collecting mne\n",
            "  Downloading mne-0.24.1-py3-none-any.whl (7.4 MB)\n",
            "\u001b[K     |████████████████████████████████| 7.4 MB 7.4 MB/s \n",
            "\u001b[?25hRequirement already satisfied: numpy>=1.15.4 in /usr/local/lib/python3.7/dist-packages (from mne) (1.19.5)\n",
            "Requirement already satisfied: scipy>=1.1.0 in /usr/local/lib/python3.7/dist-packages (from mne) (1.4.1)\n",
            "Installing collected packages: mne\n",
            "Successfully installed mne-0.24.1\n"
          ]
        }
      ]
    },
    {
      "cell_type": "code",
      "metadata": {
        "id": "BmFRCK2Yn8aW"
      },
      "source": [
        "import numpy as np\n",
        "import matplotlib.pyplot as plt\n",
        "from torch.autograd import Variable\n",
        "\n",
        "from sklearn.pipeline import make_pipeline\n",
        "from sklearn.preprocessing import StandardScaler\n",
        "from sklearn.linear_model import LogisticRegression\n",
        "\n",
        "import torch\n",
        "import torch.nn as nn\n",
        "from torch.utils.data import Dataset, DataLoader\n",
        "from sklearn.metrics import mean_squared_error, roc_auc_score\n",
        "from sklearn.model_selection import train_test_split\n",
        "\n",
        "import mne\n",
        "\n",
        "import os\n",
        "import glob"
      ],
      "execution_count": null,
      "outputs": []
    },
    {
      "cell_type": "code",
      "metadata": {
        "id": "IB0cj9v3ocde",
        "colab": {
          "base_uri": "https://localhost:8080/"
        },
        "outputId": "1d57e159-cfe4-4dea-fe75-2690fa16cf13"
      },
      "source": [
        "from google.colab import drive\n",
        "drive.mount('/content/drive')"
      ],
      "execution_count": null,
      "outputs": [
        {
          "output_type": "stream",
          "name": "stdout",
          "text": [
            "Mounted at /content/drive\n"
          ]
        }
      ]
    },
    {
      "cell_type": "code",
      "metadata": {
        "id": "h_G1I9PPo1NL"
      },
      "source": [
        "option = 'dummy'\n",
        "cond = '-' + option + '_epo'\n",
        "path = '' # path to files\n",
        "files = glob.glob(os.path.join(path + '/derivatives/megepochs', option, 'experiment' + '*' + cond + '.fif'))\n",
        "\n",
        "\n",
        "X = []\n",
        "y = []\n",
        "scaler = StandardScaler()\n",
        "for file in files[1:2]:\n",
        "    epochs = mne.read_epochs(file, verbose = 'CRITICAL')\n",
        "    epochs.pick_types(meg='grad')\n",
        "    epochs.crop(tmax=1)\n",
        "    X_f = np.swapaxes(epochs.get_data(), 1, 2)\n",
        "    X_f = scaler.fit_transform(X_f.reshape(-1, X_f.shape[-1])).reshape(X_f.shape)\n",
        "    X.append(X_f)\n",
        "    if option == 'task':\n",
        "      y.append(epochs.events[:, 2])\n",
        "    elif option == 'dummy':\n",
        "      y.append(epochs.events[:, 2] / 10)\n",
        "    elif option == 'cue':\n",
        "      y.append(epochs.events[:, 2] - 87)\n",
        "\n",
        "\n",
        "X = tuple(X)\n",
        "y = tuple(y)\n",
        "X = np.concatenate(X, axis=0)\n",
        "y = np.concatenate(y, axis=0) - 1"
      ],
      "execution_count": null,
      "outputs": []
    },
    {
      "cell_type": "code",
      "metadata": {
        "id": "ISirnGTP7Hb8"
      },
      "source": [
        "class MEGDataset(Dataset):\n",
        "    def __init__(self,X,y):\n",
        "      self.X=X\n",
        "      self.y=y\n",
        "   \n",
        "    def __len__(self):\n",
        "      return len(self.X)\n",
        " \n",
        "    def __getitem__(self,index):\n",
        "      return self.X[index].float(), self.y[index].float()"
      ],
      "execution_count": null,
      "outputs": []
    },
    {
      "cell_type": "code",
      "metadata": {
        "id": "lQlHLup-o7EX"
      },
      "source": [
        "X, X_valid, y, y_valid = train_test_split(X, y,\n",
        "                                          test_size=0.1,\n",
        "                                          random_state = 42)\n",
        "\n",
        "X = Variable(torch.Tensor(X))\n",
        "X_valid = Variable(torch.Tensor(X_valid))\n",
        "y = Variable(torch.Tensor(y))\n",
        "y_valid = Variable(torch.Tensor(y_valid))"
      ],
      "execution_count": null,
      "outputs": []
    },
    {
      "cell_type": "code",
      "metadata": {
        "id": "qXusfR5do-TY"
      },
      "source": [
        "class LSTM1(nn.Module):\n",
        "    def __init__(self, input_size, hidden_size, num_layers, seq_length):\n",
        "        super(LSTM1, self).__init__()\n",
        "        self.num_layers = num_layers  # number of layers\n",
        "        self.input_size = input_size  # input size\n",
        "        self.hidden_size = hidden_size  # hidden state\n",
        "        self.seq_length = seq_length  # sequence length\n",
        "\n",
        "        self.dropout = nn.Dropout(p = 0.2)\n",
        "        self.lstm = nn.LSTM(input_size=input_size, hidden_size=hidden_size,\n",
        "                            num_layers=num_layers, batch_first=True)  # lstm\n",
        "        self.fc_1 = nn.Linear(hidden_size, 1)  # fully connected 1\n",
        "        self.relu = nn.ReLU()\n",
        "        self.sigmoid = nn.Sigmoid()\n",
        "\n",
        "    def forward(self, x):\n",
        "        h_0 = Variable(torch.zeros(self.num_layers, x.size(0), self.hidden_size))  # hidden state\n",
        "        c_0 = Variable(torch.zeros(self.num_layers, x.size(0), self.hidden_size))  # internal state\n",
        "        # Propagate input through LSTM\n",
        "        x = self.dropout(x)\n",
        "        output, (hn, cn) = self.lstm(x, (h_0, c_0))  # lstm with input, hidden, and internal state\n",
        "        hn = hn.view(-1, self.hidden_size)  # reshaping the data for Dense layer next\n",
        "        out = self.relu(hn)\n",
        "        out = self.sigmoid(self.fc_1(out))\n",
        "        return out.flatten()\n",
        "\n",
        "\n",
        "def get_accuracy(y_true, y_prob):\n",
        "    # accuracy = torch.sum(y_true == (y_prob > 0.5)) / y_true.shape[0]\n",
        "    accuracy = roc_auc_score(y_true, (y_prob > 0.5))\n",
        "    return accuracy"
      ],
      "execution_count": null,
      "outputs": []
    },
    {
      "cell_type": "code",
      "metadata": {
        "id": "ZD2uQUdpum9i"
      },
      "source": [
        "class RNN1(nn.Module):\n",
        "    def __init__(self, input_size, hidden_size, num_layers, seq_length):\n",
        "        super(RNN1, self).__init__()\n",
        "        self.num_layers = num_layers  # number of layers\n",
        "        self.input_size = input_size  # input size\n",
        "        self.hidden_size = hidden_size  # hidden state\n",
        "\n",
        "        self.dropout = nn.Dropout(p = 0.2)\n",
        "        self.rnn = nn.RNN(input_size=input_size, hidden_size=hidden_size,\n",
        "                          num_layers=num_layers, batch_first=True)\n",
        "        self.fc_1 = nn.Linear(hidden_size, 1)  # fully connected 1\n",
        "        self.relu = nn.ReLU()\n",
        "        self.sigmoid = nn.Sigmoid()\n",
        "\n",
        "    def forward(self, x):\n",
        "        h_0 = Variable(torch.zeros(self.num_layers, x.size(0), self.hidden_size))  # hidden state\n",
        "\n",
        "        output, hn = self.rnn(x, h_0)\n",
        "        hn = hn.view(-1, self.hidden_size)  # reshaping the data for Dense layer next\n",
        "        out = self.relu(hn)\n",
        "        out = self.sigmoid(self.fc_1(out))\n",
        "        return out.flatten()"
      ],
      "execution_count": null,
      "outputs": []
    },
    {
      "cell_type": "code",
      "metadata": {
        "id": "YrFX_ixy2PvJ"
      },
      "source": [
        "class GRU1(nn.Module):\n",
        "    def __init__(self, input_size, hidden_size, num_layers, seq_length):\n",
        "        super(GRU1, self).__init__()\n",
        "        self.num_layers = num_layers  # number of layers\n",
        "        self.input_size = input_size  # input size\n",
        "        self.hidden_size = hidden_size  # hidden state\n",
        "\n",
        "        self.dropout = nn.Dropout(p = 0.2)\n",
        "        self.gru = nn.GRU(input_size=input_size, hidden_size=hidden_size,\n",
        "                          num_layers=num_layers, batch_first=True)\n",
        "        self.fc_1 = nn.Linear(hidden_size, 1)  # fully connected 1\n",
        "        self.relu = nn.ReLU()\n",
        "        self.sigmoid = nn.Sigmoid()\n",
        "\n",
        "    def forward(self, x):\n",
        "        h_0 = Variable(torch.zeros(self.num_layers, x.size(0), self.hidden_size))  # hidden state\n",
        "\n",
        "        x = self.dropout(x)\n",
        "        output, hn = self.gru(x, h_0)\n",
        "        hn = hn.view(-1, self.hidden_size)  # reshaping the data for Dense layer next\n",
        "        out = self.relu(hn)\n",
        "        out = self.sigmoid(self.fc_1(out))\n",
        "        return out.flatten()"
      ],
      "execution_count": null,
      "outputs": []
    },
    {
      "cell_type": "code",
      "metadata": {
        "id": "VWDnOAQnpKog"
      },
      "source": [
        "num_epochs = 20\n",
        "learning_rate = 0.01\n",
        "\n",
        "input_size = X.shape[-1]\n",
        "hidden_size = 100\n",
        "num_layers = 1\n",
        "batch_size = 250\n",
        "\n",
        "# model = LSTM1(input_size, hidden_size, num_layers, X.shape[1])\n",
        "# model = RNN1(input_size, hidden_size, num_layers, X.shape[1])\n",
        "model = GRU1(input_size, hidden_size, num_layers, X.shape[1])\n",
        "\n",
        "criterion = torch.nn.BCELoss()\n",
        "optimizer = torch.optim.AdamW(model.parameters(), lr=learning_rate)\n",
        "scheduler = torch.optim.lr_scheduler.StepLR(optimizer, step_size=5, gamma = 0.5)\n",
        "\n",
        "train = MEGDataset(X, y)\n",
        "train_loader = DataLoader(train, batch_size=batch_size, shuffle=True)\n",
        "\n",
        "test = MEGDataset(X_valid, y_valid)\n",
        "test_loader = DataLoader(test, batch_size=batch_size, shuffle=True)"
      ],
      "execution_count": null,
      "outputs": []
    },
    {
      "cell_type": "code",
      "metadata": {
        "id": "GfcN_91DphY-"
      },
      "source": [
        "losses = []\n",
        "test_losses = []\n",
        "accs = []\n",
        "test_accs = []\n",
        "\n",
        "for epoch in range(num_epochs):\n",
        "    i = 0\n",
        "    running_loss = 0.0\n",
        "    running_corrects = 0\n",
        "    for X_batch, y_batch in train_loader:\n",
        "        i += 1\n",
        "        optimizer.zero_grad()\n",
        "        outputs = model.forward(X_batch)\n",
        "\n",
        "        loss = criterion(outputs, y_batch)\n",
        "        loss.backward()\n",
        "\n",
        "        optimizer.step()\n",
        "        \n",
        "        running_loss += loss.item() * X_batch.size(0)\n",
        "        running_corrects += torch.sum(y_batch == (outputs > 0.5))\n",
        "\n",
        "\n",
        "    epoch_loss = running_loss / X.shape[0]\n",
        "    epoch_acc = running_corrects.float() / X.shape[0]\n",
        "    losses.append(epoch_loss)\n",
        "    accs.append(epoch_acc)\n",
        "\n",
        "    print(\"Epoch %d, loss: %1.5f\" % (epoch, epoch_loss))\n",
        "    print(\"Epoch %d, accuracy: %1.5f\" % (epoch, epoch_acc))\n",
        "\n",
        "    running_test_loss = 0.0\n",
        "    test_corrects = 0\n",
        "    for X_batch, y_batch in test_loader:\n",
        "        i += 1\n",
        "        outputs = model.forward(X_batch)\n",
        "        loss = criterion(outputs, y_batch)\n",
        "        running_test_loss += loss.item() * X_batch.size(0)\n",
        "        test_corrects += torch.sum(y_batch == (outputs > 0.5))\n",
        "\n",
        "\n",
        "    epoch_test_loss = running_test_loss / X_valid.shape[0]\n",
        "    scheduler.step()\n",
        "\n",
        "    epoch_test_acc = test_corrects.float() / X_valid.shape[0]\n",
        "\n",
        "    test_accs.append(epoch_test_acc)\n",
        "    test_losses.append(epoch_test_loss)\n",
        "    print(\"Epoch %d, test loss: %1.5f\" % (epoch, epoch_test_loss))\n",
        "    print(\"Epoch %d, test accuracy: %1.5f\" % (epoch, epoch_test_acc))"
      ],
      "execution_count": null,
      "outputs": []
    },
    {
      "cell_type": "code",
      "metadata": {
        "colab": {
          "base_uri": "https://localhost:8080/",
          "height": 269
        },
        "id": "_Y5soKMPBN3Q",
        "outputId": "2bc84fb6-2b88-4278-bbfc-f27c3db5c365"
      },
      "source": [
        "plt.plot(range(0, 20), losses, '--', color = 'b')\n",
        "plt.plot(range(0, 20), test_losses, '--', color = 'g')\n",
        "plt.xticks(np.arange(0, 20, step = 2), np.arange(0, 20, step = 2))\n",
        "plt.savefig('loss_gru_cue.png', dpi = 400)"
      ],
      "execution_count": null,
      "outputs": [
        {
          "output_type": "display_data",
          "data": {
            "image/png": "[encoded data removed]",
            "text/plain": [
              "<Figure size 432x288 with 1 Axes>"
            ]
          },
          "metadata": {
            "needs_background": "light"
          }
        }
      ]
    },
    {
      "cell_type": "code",
      "metadata": {
        "colab": {
          "base_uri": "https://localhost:8080/",
          "height": 265
        },
        "id": "T2s4wudOEzU0",
        "outputId": "500c84aa-e514-48a5-e798-8cb1ffc5aee8"
      },
      "source": [
        "plt.plot(range(0, 20), accs, color = 'b')\n",
        "plt.plot(range(0, 20), test_accs, color = 'g')\n",
        "plt.xticks(np.arange(0, 20, step = 2), np.arange(0, 20, step = 2))\n",
        "plt.savefig('accuracy_gru_cue.png', dpi = 400)"
      ],
      "execution_count": null,
      "outputs": [
        {
          "output_type": "display_data",
          "data": {
            "image/png": "[encoded data removed]",
            "text/plain": [
              "<Figure size 432x288 with 1 Axes>"
            ]
          },
          "metadata": {
            "needs_background": "light"
          }
        }
      ]
    }
  ]
}